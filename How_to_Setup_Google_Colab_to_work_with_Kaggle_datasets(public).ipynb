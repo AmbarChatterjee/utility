{
  "nbformat": 4,
  "nbformat_minor": 0,
  "metadata": {
    "colab": {
      "provenance": [],
      "authorship_tag": "ABX9TyOTOcq3AeEiTfblfCi21l79",
      "include_colab_link": true
    },
    "kernelspec": {
      "name": "python3",
      "display_name": "Python 3"
    },
    "language_info": {
      "name": "python"
    }
  },
  "cells": [
    {
      "cell_type": "markdown",
      "metadata": {
        "id": "view-in-github",
        "colab_type": "text"
      },
      "source": [
        "<a href=\"https://colab.research.google.com/github/AmbarChatterjee/utility/blob/main/How_to_Setup_Google_Colab_to_work_with_Kaggle_datasets(public).ipynb\" target=\"_parent\"><img src=\"https://colab.research.google.com/assets/colab-badge.svg\" alt=\"Open In Colab\"/></a>"
      ]
    },
    {
      "cell_type": "markdown",
      "source": [
        "## Note:\n",
        "### 1.   Create a directory in your google drive called \"kaggle\".\n",
        "### 2.   Make sure you have your kaggle API token in that directory.\n"
      ],
      "metadata": {
        "id": "s09_qv-lBXc5"
      }
    },
    {
      "cell_type": "markdown",
      "source": [
        "*To install kaggle library*"
      ],
      "metadata": {
        "id": "sIm86ldQAqqy"
      }
    },
    {
      "cell_type": "code",
      "execution_count": null,
      "metadata": {
        "id": "hTiE-zvg0tuH"
      },
      "outputs": [],
      "source": [
        "!pip install kaggle"
      ]
    },
    {
      "cell_type": "markdown",
      "source": [
        "*To mount our google drive*"
      ],
      "metadata": {
        "id": "3iFqwQJ0AxI5"
      }
    },
    {
      "cell_type": "code",
      "source": [
        "from google.colab import drive\n",
        "drive.mount('/content/drive')"
      ],
      "metadata": {
        "id": "H600zq4w10Zs"
      },
      "execution_count": null,
      "outputs": []
    },
    {
      "cell_type": "markdown",
      "source": [
        "*To change directory to our folder*"
      ],
      "metadata": {
        "id": "OgX9KNB8A57a"
      }
    },
    {
      "cell_type": "code",
      "source": [
        "%cd /content/drive/MyDrive/kaggle"
      ],
      "metadata": {
        "id": "PHWlA1GO1uvl"
      },
      "execution_count": null,
      "outputs": []
    },
    {
      "cell_type": "markdown",
      "source": [
        "*To list the files in the folder*"
      ],
      "metadata": {
        "id": "UER5YUEJBKAp"
      }
    },
    {
      "cell_type": "code",
      "source": [
        "%ls"
      ],
      "metadata": {
        "id": "90pJ2bhK2WQt"
      },
      "execution_count": null,
      "outputs": []
    },
    {
      "cell_type": "markdown",
      "source": [
        "*To check present working directory*"
      ],
      "metadata": {
        "id": "FnZO4m22EFKp"
      }
    },
    {
      "cell_type": "code",
      "source": [
        "%pwd"
      ],
      "metadata": {
        "id": "EL199UXRECnq"
      },
      "execution_count": null,
      "outputs": []
    },
    {
      "cell_type": "markdown",
      "source": [
        "*To remove any existing kaggle directory in the root folder*"
      ],
      "metadata": {
        "id": "VuERI5GmBxCJ"
      }
    },
    {
      "cell_type": "code",
      "source": [
        "!rm -r ~/.kaggle"
      ],
      "metadata": {
        "id": "s-NVSNjx7zM6"
      },
      "execution_count": null,
      "outputs": []
    },
    {
      "cell_type": "markdown",
      "source": [
        "*To make kaggle directory at the root folder*"
      ],
      "metadata": {
        "id": "j60o37LOCAzx"
      }
    },
    {
      "cell_type": "code",
      "source": [
        "!mkdir ~/.kaggle"
      ],
      "metadata": {
        "id": "BGK89Iz_78JX"
      },
      "execution_count": null,
      "outputs": []
    },
    {
      "cell_type": "markdown",
      "source": [
        "*To copy your kaggle API token from your directory to the root directory*"
      ],
      "metadata": {
        "id": "8C1BVrg_COdx"
      }
    },
    {
      "cell_type": "code",
      "source": [
        "!cp ./kaggle.json ~/.kaggle/"
      ],
      "metadata": {
        "id": "qd_ZQh9nCOHp"
      },
      "execution_count": null,
      "outputs": []
    },
    {
      "cell_type": "markdown",
      "source": [
        "*To change the permission of our kaggle API token json file*"
      ],
      "metadata": {
        "id": "fxoiMqFFCuN4"
      }
    },
    {
      "cell_type": "code",
      "source": [
        "!chmod 600 ~/.kaggle/kaggle.json"
      ],
      "metadata": {
        "id": "hbgc8eCX2tJe"
      },
      "execution_count": null,
      "outputs": []
    },
    {
      "cell_type": "markdown",
      "source": [
        "*Download Dataset. Copy the API Command of any Dataset and Paste it here, attaching '!' at the beginning of the API Command*"
      ],
      "metadata": {
        "id": "9iD5PZccC6F6"
      }
    },
    {
      "cell_type": "code",
      "source": [
        "!kaggle datasets download -d opalskies/large-books-metadata-dataset-50-mill-entries"
      ],
      "metadata": {
        "id": "hQswR3LA4P8a"
      },
      "execution_count": null,
      "outputs": []
    },
    {
      "cell_type": "markdown",
      "source": [
        "*To unzip a file*"
      ],
      "metadata": {
        "id": "JcFRPkhyDrbB"
      }
    },
    {
      "cell_type": "code",
      "source": [
        "import zipfile"
      ],
      "metadata": {
        "id": "V28DY-65-2ct"
      },
      "execution_count": null,
      "outputs": []
    },
    {
      "cell_type": "code",
      "source": [
        "with zipfile.ZipFile('large-books-metadata-dataset-50-mill-entries.zip') as zf:\n",
        "  for file in zf.namelist():\n",
        "    if file.endswith(\"authors.json\"):\n",
        "      zf.extract(file,\"/content/drive/MyDrive/kaggle\")"
      ],
      "metadata": {
        "id": "yaV0-3DYIu9q"
      },
      "execution_count": null,
      "outputs": []
    },
    {
      "cell_type": "markdown",
      "source": [
        "*To load json dataset*"
      ],
      "metadata": {
        "id": "g0GYK41ZEd0o"
      }
    },
    {
      "cell_type": "code",
      "source": [
        "!pip install datasets"
      ],
      "metadata": {
        "id": "yYye5Q8CE6VC"
      },
      "execution_count": null,
      "outputs": []
    },
    {
      "cell_type": "code",
      "source": [
        "from datasets import load_dataset"
      ],
      "metadata": {
        "id": "pT1aayJjLJFS"
      },
      "execution_count": null,
      "outputs": []
    },
    {
      "cell_type": "code",
      "source": [
        "file1 = \"authors.json/authors.json\""
      ],
      "metadata": {
        "id": "sD_J65L_LNWF"
      },
      "execution_count": null,
      "outputs": []
    },
    {
      "cell_type": "code",
      "source": [
        "dataset1 = load_dataset(\"json\", data_files= str(file1))"
      ],
      "metadata": {
        "id": "hxvR0GbtLdAk"
      },
      "execution_count": null,
      "outputs": []
    },
    {
      "cell_type": "code",
      "source": [
        "dataset1.shape"
      ],
      "metadata": {
        "id": "U_YSqHM7LqSc"
      },
      "execution_count": null,
      "outputs": []
    },
    {
      "cell_type": "code",
      "source": [
        "dataset1['train'].column_names"
      ],
      "metadata": {
        "id": "UdHW8oFDMKX-"
      },
      "execution_count": null,
      "outputs": []
    },
    {
      "cell_type": "code",
      "source": [],
      "metadata": {
        "id": "X9O-5_xXMQPO"
      },
      "execution_count": null,
      "outputs": []
    }
  ]
}